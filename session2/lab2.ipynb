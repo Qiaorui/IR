{
 "cells": [
  {
   "cell_type": "markdown",
   "metadata": {},
   "source": [
    "# 0 List all index"
   ]
  },
  {
   "cell_type": "code",
   "execution_count": 129,
   "metadata": {},
   "outputs": [
    {
     "name": "stdout",
     "output_type": "stream",
     "text": [
      "health status index  uuid                   pri rep docs.count docs.deleted store.size pri.store.size\r\n",
      "yellow open   news   pUcnw5GGQAaeEr00fLQuSg   1   1      20417            0     35.2mb         35.2mb\r\n",
      "yellow open   novels cUrnZJIzRKaFFh3AIiOfEw   1   1         33            0     18.3mb         18.3mb\r\n",
      "yellow open   test   m_GdMZOqTxesTyykLXxeOA   1   1          3            0      4.2kb          4.2kb\r\n"
     ]
    }
   ],
   "source": [
    "!curl -X GET \"localhost:9200/_cat/indices?v\""
   ]
  },
  {
   "cell_type": "markdown",
   "metadata": {},
   "source": [
    "# 1 Delete all indeces"
   ]
  },
  {
   "cell_type": "code",
   "execution_count": 2,
   "metadata": {},
   "outputs": [
    {
     "name": "stdout",
     "output_type": "stream",
     "text": [
      "{\"acknowledged\":true}\n"
     ]
    },
    {
     "name": "stderr",
     "output_type": "stream",
     "text": [
      "  % Total    % Received % Xferd  Average Speed   Time    Time     Time  Current\n",
      "                                 Dload  Upload   Total   Spent    Left  Speed\n",
      "\n",
      "  0     0    0     0    0     0      0      0 --:--:-- --:--:-- --:--:--     0\n",
      "100    21  100    21    0     0     21      0  0:00:01 --:--:--  0:00:01    42\n"
     ]
    }
   ],
   "source": [
    "!curl -X DELETE \"localhost:9200/*\""
   ]
  },
  {
   "cell_type": "markdown",
   "metadata": {},
   "source": [
    "# 2 Index reloaded"
   ]
  },
  {
   "cell_type": "code",
   "execution_count": 5,
   "metadata": {},
   "outputs": [
    {
     "name": "stdout",
     "output_type": "stream",
     "text": [
      "Indexing 20417 files\n",
      "Reading files ...\n"
     ]
    },
    {
     "name": "stderr",
     "output_type": "stream",
     "text": [
      "DELETE http://localhost:9200/news [status:404 request:0.055s]\n"
     ]
    },
    {
     "name": "stdout",
     "output_type": "stream",
     "text": [
      "Index settings= {'news': {'settings': {'index': {'number_of_shards': '1', 'provided_name': 'news', 'creation_date': '1539639196314', 'analysis': {'analyzer': {'default': {'filter': ['lowercase', 'asciifolding'], 'type': 'custom', 'tokenizer': 'letter'}}}, 'number_of_replicas': '1', 'uuid': 'Y7kUjQfeTxiPH-5w_TdfRw', 'version': {'created': '6040299'}}}}}\n",
      "Indexing ...\n"
     ]
    }
   ],
   "source": [
    "%run IndexFilesPreprocess.py --index news  --path 20_newsgroups/**/[0-9]* --token letter --filter lowercase asciifolding"
   ]
  },
  {
   "cell_type": "markdown",
   "metadata": {},
   "source": [
    "what word is the most frequent one in the English language?\n",
    "\n",
    "the"
   ]
  },
  {
   "cell_type": "code",
   "execution_count": 1,
   "metadata": {},
   "outputs": [],
   "source": [
    "from elasticsearch import Elasticsearch\n",
    "from elasticsearch.helpers import scan\n",
    "from elasticsearch.exceptions import NotFoundError\n",
    "\n",
    "def count_words(index, alpha):\n",
    "    lpal = []\n",
    "    voc = {}\n",
    "    \n",
    "    try:\n",
    "        client = Elasticsearch()\n",
    "\n",
    "        sc = scan(client, index=index, doc_type='document', query={\"query\" : {\"match_all\": {}}})\n",
    "            \n",
    "        for s in sc:\n",
    "            tv = client.termvectors(index=index, doc_type='document', id=s['_id'], fields=['text'])\n",
    "            if 'text' in tv['term_vectors']:\n",
    "                for t in tv['term_vectors']['text']['terms']:\n",
    "                    if t in voc:\n",
    "                        voc[t] += tv['term_vectors']['text']['terms'][t]['term_freq']\n",
    "                    else:\n",
    "                        voc[t] = tv['term_vectors']['text']['terms'][t]['term_freq']\n",
    "        for v in voc:\n",
    "            lpal.append((v.encode(\"utf8\", \"ignore\"), voc[v]))\n",
    "\n",
    "        print('%s Words' % len(lpal))\n",
    "    except NotFoundError:\n",
    "        print('Index %s does not exists' % index)\n",
    "    \n",
    "    lpal.sort(key=lambda x: x[0 if alpha else 1])\n",
    "    \n",
    "    return lpal"
   ]
  },
  {
   "cell_type": "code",
   "execution_count": 4,
   "metadata": {},
   "outputs": [
    {
     "name": "stdout",
     "output_type": "stream",
     "text": [
      "54365 Words\n"
     ]
    }
   ],
   "source": [
    "lpal = count_words(\"novels\", False)"
   ]
  },
  {
   "cell_type": "code",
   "execution_count": 5,
   "metadata": {},
   "outputs": [
    {
     "data": {
      "text/plain": [
       "(b'the', 206706)"
      ]
     },
     "execution_count": 5,
     "metadata": {},
     "output_type": "execute_result"
    }
   ],
   "source": [
    "lpal[-1]"
   ]
  },
  {
   "cell_type": "markdown",
   "metadata": {},
   "source": [
    "# 3 tf-idf and cos similarity\n",
    "\n",
    "The implementation is in code\n",
    "\n",
    "## 3.1 Experimenting\n",
    "Test between one document to another. And test one document to itself."
   ]
  },
  {
   "cell_type": "code",
   "execution_count": 70,
   "metadata": {},
   "outputs": [
    {
     "name": "stdout",
     "output_type": "stream",
     "text": [
      "Similarity = 0.01715\n",
      "Similarity = 1.00000\n"
     ]
    }
   ],
   "source": [
    "%run TFIDFViewer.py --index novels --files novels/DickensAChristmasCarol.txt novels/DickensGreatExpectations.txt\n",
    "%run TFIDFViewer.py --index novels --files novels/DickensAChristmasCarol.txt novels/DickensAChristmasCarol.txt"
   ]
  },
  {
   "cell_type": "markdown",
   "metadata": {},
   "source": [
    "A simple test we created with two document.\n",
    "\n",
    "* d1: a b c d e\n",
    "* d2: a c e f g\n",
    "* d3: b g f e c\n",
    "\n",
    "By hand, the similarity between d2 and d3 should be 66%."
   ]
  },
  {
   "cell_type": "code",
   "execution_count": 45,
   "metadata": {},
   "outputs": [
    {
     "name": "stdout",
     "output_type": "stream",
     "text": [
      "Indexing 3 files\n",
      "Reading files ...\n",
      "Index settings= {'test': {'settings': {'index': {'number_of_shards': '1', 'provided_name': 'test', 'creation_date': '1539738959094', 'analysis': {'analyzer': {'default': {'filter': ['lowercase'], 'type': 'custom', 'tokenizer': 'letter'}}}, 'number_of_replicas': '1', 'uuid': 'm_GdMZOqTxesTyykLXxeOA', 'version': {'created': '6020499'}}}}}\n",
      "Indexing ...\n"
     ]
    }
   ],
   "source": [
    "%run IndexFilesPreprocess.py --index test  --path mytest/* --token letter"
   ]
  },
  {
   "cell_type": "code",
   "execution_count": 72,
   "metadata": {},
   "outputs": [
    {
     "name": "stdout",
     "output_type": "stream",
     "text": [
      "TFIDF FILE mytest/file2.txt\n",
      "a 0.5773502691896258\n",
      "f 0.5773502691896258\n",
      "g 0.5773502691896258\n",
      "---------------------\n",
      "TFIDF FILE mytest/file3.txt\n",
      "b 0.5773502691896258\n",
      "f 0.5773502691896258\n",
      "g 0.5773502691896258\n",
      "---------------------\n",
      "Similarity = 0.66667\n"
     ]
    }
   ],
   "source": [
    "%run TFIDFViewer.py --index test --print --files mytest/file2.txt mytest/file3.txt"
   ]
  },
  {
   "cell_type": "markdown",
   "metadata": {},
   "source": [
    "## A final question, have you noticed that we are searching the documents using the path name? \n",
    "\n",
    "Yes. We are using path as index to search the document.\n",
    "\n",
    "## Was the path tokenized by the index? \n",
    "\n",
    "No. We configure the path field to prevent the tokenization.\n",
    "\n",
    "## What did we do differently when indexing the documents so we can look for an exact match in the path field?\n",
    "\n",
    "We add a property to the mapping of configuration of index.\n",
    "```python\n",
    "    client.indices.put_mapping(doc_type='document', index=index, body= {\n",
    "        \"document\" : {\n",
    "            \"properties\": {\n",
    "                \"path\": {\n",
    "                    \"type\": \"keyword\",\n",
    "                }\n",
    "            }\n",
    "        }\n",
    "    })\n",
    "```"
   ]
  },
  {
   "cell_type": "markdown",
   "metadata": {},
   "source": [
    "# 4 Document relevance"
   ]
  },
  {
   "cell_type": "code",
   "execution_count": 29,
   "metadata": {},
   "outputs": [
    {
     "name": "stdout",
     "output_type": "stream",
     "text": [
      "['toronto', 'nyc']\n",
      "ID= zJrwd2YBIcpsWJdpM8ce SCORE=9.122151\n",
      "PATH= 20_newsgroups/alt.atheism/0000574\n",
      "TEXT: In article <1r1mr8$eov@aurora.engr.LaTech.edu>, ra\n",
      "-----------------------------------------------------------------\n",
      "ID= G5rwd2YBIcpsWJdpPvk7 SCORE=4.8560805\n",
      "PATH= 20_newsgroups/sci.med/0013128\n",
      "TEXT: Here is a press release from the Natural Resources\n",
      "-----------------------------------------------------------------\n",
      "ID= Ypvwd2YBIcpsWJdpRg95 SCORE=4.0302267\n",
      "PATH= 20_newsgroups/talk.politics.misc/0018667\n",
      "TEXT: v140pxgt@ubvmsb.cc.buffalo.edu (Daniel B Case) wri\n",
      "-----------------------------------------------------------------\n",
      "ID= Vpvwd2YBIcpsWJdpQgTD SCORE=3.5608654\n",
      "PATH= 20_newsgroups/talk.politics.guns/0015998\n",
      "TEXT: Jim De Arras (jmd@cube.handheld.com) wrote:\n",
      ": > La\n",
      "-----------------------------------------------------------------\n",
      "4 Documents\n"
     ]
    }
   ],
   "source": [
    "%run SearchIndexWeight.py --index news --nhits 5 --query toronto nyc"
   ]
  },
  {
   "cell_type": "code",
   "execution_count": 30,
   "metadata": {},
   "outputs": [
    {
     "name": "stdout",
     "output_type": "stream",
     "text": [
      "['toronto^2', 'nyc']\n",
      "ID= zJrwd2YBIcpsWJdpM8ce SCORE=12.817256\n",
      "PATH= 20_newsgroups/alt.atheism/0000574\n",
      "TEXT: In article <1r1mr8$eov@aurora.engr.LaTech.edu>, ra\n",
      "-----------------------------------------------------------------\n",
      "ID= G5rwd2YBIcpsWJdpPvk7 SCORE=6.8231306\n",
      "PATH= 20_newsgroups/sci.med/0013128\n",
      "TEXT: Here is a press release from the Natural Resources\n",
      "-----------------------------------------------------------------\n",
      "ID= Ypvwd2YBIcpsWJdpRg95 SCORE=6.744345\n",
      "PATH= 20_newsgroups/talk.politics.misc/0018667\n",
      "TEXT: v140pxgt@ubvmsb.cc.buffalo.edu (Daniel B Case) wri\n",
      "-----------------------------------------------------------------\n",
      "ID= Vpvwd2YBIcpsWJdpQgTD SCORE=5.0032635\n",
      "PATH= 20_newsgroups/talk.politics.guns/0015998\n",
      "TEXT: Jim De Arras (jmd@cube.handheld.com) wrote:\n",
      ": > La\n",
      "-----------------------------------------------------------------\n",
      "4 Documents\n"
     ]
    }
   ],
   "source": [
    "%run SearchIndexWeight.py --index news --nhits 5 --query toronto^2 nyc"
   ]
  },
  {
   "cell_type": "code",
   "execution_count": 99,
   "metadata": {},
   "outputs": [
    {
     "name": "stdout",
     "output_type": "stream",
     "text": [
      "['toronto^1', 'nyc^2']\n",
      "ID= zJrwd2YBIcpsWJdpM8ce SCORE=14.549197\n",
      "PATH= 20_newsgroups/alt.atheism/0000574\n",
      "TEXT: In article <1r1mr8$eov@aurora.engr.LaTech.edu>, ra\n",
      "-----------------------------------------------------------------\n",
      "ID= G5rwd2YBIcpsWJdpPvk7 SCORE=7.745111\n",
      "PATH= 20_newsgroups/sci.med/0013128\n",
      "TEXT: Here is a press release from the Natural Resources\n",
      "-----------------------------------------------------------------\n",
      "ID= Vpvwd2YBIcpsWJdpQgTD SCORE=5.679333\n",
      "PATH= 20_newsgroups/talk.politics.guns/0015998\n",
      "TEXT: Jim De Arras (jmd@cube.handheld.com) wrote:\n",
      ": > La\n",
      "-----------------------------------------------------------------\n",
      "ID= Ypvwd2YBIcpsWJdpRg95 SCORE=5.3463345\n",
      "PATH= 20_newsgroups/talk.politics.misc/0018667\n",
      "TEXT: v140pxgt@ubvmsb.cc.buffalo.edu (Daniel B Case) wri\n",
      "-----------------------------------------------------------------\n",
      "4 Documents\n"
     ]
    }
   ],
   "source": [
    "%run SearchIndexWeight.py --index news --nhits 5 --query toronto nyc^2"
   ]
  },
  {
   "cell_type": "markdown",
   "metadata": {},
   "source": [
    "# 5 Rocchio"
   ]
  },
  {
   "cell_type": "code",
   "execution_count": 162,
   "metadata": {},
   "outputs": [
    {
     "name": "stdout",
     "output_type": "stream",
     "text": [
      "Receive query ['nice', 'city']\n",
      "******************************************************\n",
      "iteration 1\n",
      "Term vector : ['nice', 'city']\n",
      "Weight vector : [1.0, 1.0]\n",
      "Composed query : ['nice^1.0', 'city^1.0']\n",
      "******************************************************\n",
      "iteration 2\n",
      "Term vector : ['nice', 'city']\n",
      "Weight vector : [1.0497523249337901, 1.121322570620743]\n",
      "Composed query : ['nice^1.0497523249337901', 'city^1.121322570620743']\n",
      "******************************************************\n",
      "iteration 3\n",
      "Term vector : ['nice', 'city']\n",
      "Weight vector : [1.0995046498675802, 1.242645141241486]\n",
      "Composed query : ['nice^1.0995046498675802', 'city^1.242645141241486']\n",
      "******************************************************\n",
      "iteration 4\n",
      "Term vector : ['nice', 'city']\n",
      "Weight vector : [1.1492569748013703, 1.363967711862229]\n",
      "Composed query : ['nice^1.1492569748013703', 'city^1.363967711862229']\n",
      "******************************************************\n",
      "iteration 5\n",
      "Term vector : ['nice', 'city']\n",
      "Weight vector : [1.1990092997351605, 1.4852902824829721]\n",
      "Composed query : ['nice^1.1990092997351605', 'city^1.4852902824829721']\n",
      "******************************************************\n",
      "ID= i5vwd2YBIcpsWJdpRxEh SCORE=15.012425\n",
      "PATH= 20_newsgroups/talk.religion.misc/0019033\n",
      "-----------------------------------------------------------------\n",
      "ID= 7prwd2YBIcpsWJdpOuhn SCORE=12.402299\n",
      "PATH= 20_newsgroups/rec.motorcycles/0008995\n",
      "-----------------------------------------------------------------\n",
      "ID= RZrwd2YBIcpsWJdpON4k SCORE=11.603438\n",
      "PATH= 20_newsgroups/misc.forsale/0006276\n",
      "-----------------------------------------------------------------\n",
      "ID= cprwd2YBIcpsWJdpOupn SCORE=11.075672\n",
      "PATH= 20_newsgroups/rec.sport.baseball/0009383\n",
      "-----------------------------------------------------------------\n",
      "ID= Eprwd2YBIcpsWJdpPO8Q SCORE=10.618199\n",
      "PATH= 20_newsgroups/rec.sport.hockey/0010567\n",
      "-----------------------------------------------------------------\n"
     ]
    }
   ],
   "source": [
    "%run Rocchio.py --k 5 --nrounds 5 --index news --query nice city"
   ]
  },
  {
   "cell_type": "code",
   "execution_count": null,
   "metadata": {},
   "outputs": [],
   "source": []
  },
  {
   "cell_type": "code",
   "execution_count": null,
   "metadata": {},
   "outputs": [],
   "source": []
  }
 ],
 "metadata": {
  "kernelspec": {
   "display_name": "Python 3",
   "language": "python",
   "name": "python3"
  },
  "language_info": {
   "codemirror_mode": {
    "name": "ipython",
    "version": 3
   },
   "file_extension": ".py",
   "mimetype": "text/x-python",
   "name": "python",
   "nbconvert_exporter": "python",
   "pygments_lexer": "ipython3",
   "version": "3.6.5"
  }
 },
 "nbformat": 4,
 "nbformat_minor": 2
}
