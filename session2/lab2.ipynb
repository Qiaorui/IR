{
 "cells": [
  {
   "cell_type": "markdown",
   "metadata": {},
   "source": [
    "# 0 List all index"
   ]
  },
  {
   "cell_type": "code",
   "execution_count": 3,
   "metadata": {},
   "outputs": [
    {
     "name": "stdout",
     "output_type": "stream",
     "text": [
      "health status index  uuid                   pri rep docs.count docs.deleted store.size pri.store.size\r\n",
      "yellow open   news   pUcnw5GGQAaeEr00fLQuSg   1   1      20417            0     35.2mb         35.2mb\r\n",
      "yellow open   novels cUrnZJIzRKaFFh3AIiOfEw   1   1         33            0     18.3mb         18.3mb\r\n"
     ]
    }
   ],
   "source": [
    "!curl -X GET \"localhost:9200/_cat/indices?v\""
   ]
  },
  {
   "cell_type": "markdown",
   "metadata": {},
   "source": [
    "# 1 Delete all indeces"
   ]
  },
  {
   "cell_type": "code",
   "execution_count": 2,
   "metadata": {},
   "outputs": [
    {
     "name": "stdout",
     "output_type": "stream",
     "text": [
      "{\"acknowledged\":true}\n"
     ]
    },
    {
     "name": "stderr",
     "output_type": "stream",
     "text": [
      "  % Total    % Received % Xferd  Average Speed   Time    Time     Time  Current\n",
      "                                 Dload  Upload   Total   Spent    Left  Speed\n",
      "\n",
      "  0     0    0     0    0     0      0      0 --:--:-- --:--:-- --:--:--     0\n",
      "100    21  100    21    0     0     21      0  0:00:01 --:--:--  0:00:01    42\n"
     ]
    }
   ],
   "source": [
    "!curl -X DELETE \"localhost:9200/*\""
   ]
  },
  {
   "cell_type": "markdown",
   "metadata": {},
   "source": [
    "# 2 Index reloaded"
   ]
  },
  {
   "cell_type": "code",
   "execution_count": 5,
   "metadata": {},
   "outputs": [
    {
     "name": "stdout",
     "output_type": "stream",
     "text": [
      "Indexing 20417 files\n",
      "Reading files ...\n"
     ]
    },
    {
     "name": "stderr",
     "output_type": "stream",
     "text": [
      "DELETE http://localhost:9200/news [status:404 request:0.055s]\n"
     ]
    },
    {
     "name": "stdout",
     "output_type": "stream",
     "text": [
      "Index settings= {'news': {'settings': {'index': {'number_of_shards': '1', 'provided_name': 'news', 'creation_date': '1539639196314', 'analysis': {'analyzer': {'default': {'filter': ['lowercase', 'asciifolding'], 'type': 'custom', 'tokenizer': 'letter'}}}, 'number_of_replicas': '1', 'uuid': 'Y7kUjQfeTxiPH-5w_TdfRw', 'version': {'created': '6040299'}}}}}\n",
      "Indexing ...\n"
     ]
    }
   ],
   "source": [
    "%run IndexFilesPreprocess.py --index news  --path 20_newsgroups/**/[0-9]* --token letter --filter lowercase asciifolding"
   ]
  },
  {
   "cell_type": "markdown",
   "metadata": {},
   "source": [
    "what word is the most frequent one in the English language?\n",
    "\n",
    "the"
   ]
  },
  {
   "cell_type": "code",
   "execution_count": 1,
   "metadata": {},
   "outputs": [],
   "source": [
    "from elasticsearch import Elasticsearch\n",
    "from elasticsearch.helpers import scan\n",
    "from elasticsearch.exceptions import NotFoundError\n",
    "\n",
    "def count_words(index, alpha):\n",
    "    lpal = []\n",
    "    voc = {}\n",
    "    \n",
    "    try:\n",
    "        client = Elasticsearch()\n",
    "\n",
    "        sc = scan(client, index=index, doc_type='document', query={\"query\" : {\"match_all\": {}}})\n",
    "            \n",
    "        for s in sc:\n",
    "            tv = client.termvectors(index=index, doc_type='document', id=s['_id'], fields=['text'])\n",
    "            if 'text' in tv['term_vectors']:\n",
    "                for t in tv['term_vectors']['text']['terms']:\n",
    "                    if t in voc:\n",
    "                        voc[t] += tv['term_vectors']['text']['terms'][t]['term_freq']\n",
    "                    else:\n",
    "                        voc[t] = tv['term_vectors']['text']['terms'][t]['term_freq']\n",
    "        for v in voc:\n",
    "            lpal.append((v.encode(\"utf8\", \"ignore\"), voc[v]))\n",
    "\n",
    "        print('%s Words' % len(lpal))\n",
    "    except NotFoundError:\n",
    "        print('Index %s does not exists' % index)\n",
    "    \n",
    "    lpal.sort(key=lambda x: x[0 if alpha else 1])\n",
    "    \n",
    "    return lpal"
   ]
  },
  {
   "cell_type": "code",
   "execution_count": 4,
   "metadata": {},
   "outputs": [
    {
     "name": "stdout",
     "output_type": "stream",
     "text": [
      "54365 Words\n"
     ]
    }
   ],
   "source": [
    "lpal = count_words(\"novels\", False)"
   ]
  },
  {
   "cell_type": "code",
   "execution_count": 5,
   "metadata": {},
   "outputs": [
    {
     "data": {
      "text/plain": [
       "(b'the', 206706)"
      ]
     },
     "execution_count": 5,
     "metadata": {},
     "output_type": "execute_result"
    }
   ],
   "source": [
    "lpal[-1]"
   ]
  },
  {
   "cell_type": "markdown",
   "metadata": {},
   "source": [
    "# 3 tf-idf and cos similarity\n",
    "\n",
    "The implementation is in code\n",
    "\n",
    "## 3.1 Experimenting\n",
    "Test between one document to another. And test one document to itself."
   ]
  },
  {
   "cell_type": "code",
   "execution_count": 24,
   "metadata": {},
   "outputs": [
    {
     "name": "stdout",
     "output_type": "stream",
     "text": [
      "Similarity = 0.01715\n",
      "Similarity = 1.00000\n"
     ]
    }
   ],
   "source": [
    "%run TFIDFViewer.py --index novels --files novels/DickensAChristmasCarol.txt novels/DickensGreatExpectations.txt\n",
    "%run TFIDFViewer.py --index novels --files novels/DickensAChristmasCarol.txt novels/DickensAChristmasCarol.txt"
   ]
  },
  {
   "cell_type": "markdown",
   "metadata": {},
   "source": [
    "## A final question, have you noticed that we are searching the documents using the path name? \n",
    "\n",
    "Yes. We are using path as index to search the document.\n",
    "\n",
    "## Was the path tokenized by the index? \n",
    "\n",
    "No. We configure the path field to prevent the tokenization.\n",
    "\n",
    "## What did we do differently when indexing the documents so we can look for an exact match in the path field?\n",
    "\n",
    "We add a property to the mapping of configuration of index.\n",
    "```python\n",
    "    client.indices.put_mapping(doc_type='document', index=index, body= {\n",
    "        \"document\" : {\n",
    "            \"properties\": {\n",
    "                \"path\": {\n",
    "                    \"type\": \"keyword\",\n",
    "                }\n",
    "            }\n",
    "        }\n",
    "    })\n",
    "```"
   ]
  },
  {
   "cell_type": "markdown",
   "metadata": {},
   "source": [
    "# 4 Document relevance"
   ]
  },
  {
   "cell_type": "code",
   "execution_count": null,
   "metadata": {},
   "outputs": [],
   "source": []
  }
 ],
 "metadata": {
  "kernelspec": {
   "display_name": "Python 3",
   "language": "python",
   "name": "python3"
  },
  "language_info": {
   "codemirror_mode": {
    "name": "ipython",
    "version": 3
   },
   "file_extension": ".py",
   "mimetype": "text/x-python",
   "name": "python",
   "nbconvert_exporter": "python",
   "pygments_lexer": "ipython3",
   "version": "3.6.5"
  }
 },
 "nbformat": 4,
 "nbformat_minor": 2
}
